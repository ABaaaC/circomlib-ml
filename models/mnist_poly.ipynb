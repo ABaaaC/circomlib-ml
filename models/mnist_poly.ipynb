{
 "cells": [
  {
   "cell_type": "code",
   "execution_count": 1,
   "metadata": {},
   "outputs": [],
   "source": [
    "from tensorflow.keras.layers import Input, Conv2D, Dense, Flatten, Lambda, Softmax\n",
    "from tensorflow.keras import Model\n",
    "from tensorflow.keras.datasets import mnist\n",
    "from tensorflow.keras.utils import to_categorical\n",
    "import numpy as np\n",
    "import matplotlib.pyplot as plt\n",
    "import tensorflow as tf"
   ]
  },
  {
   "cell_type": "code",
   "execution_count": 2,
   "metadata": {},
   "outputs": [],
   "source": [
    "(X_train, y_train), (X_test, y_test) = mnist.load_data()"
   ]
  },
  {
   "cell_type": "code",
   "execution_count": 3,
   "metadata": {},
   "outputs": [],
   "source": [
    "# Convert y_train into one-hot format\n",
    "temp = []\n",
    "for i in range(len(y_train)):\n",
    "    temp.append(to_categorical(y_train[i], num_classes=10))\n",
    "y_train = np.array(temp)\n",
    "# Convert y_test into one-hot format\n",
    "temp = []\n",
    "for i in range(len(y_test)):    \n",
    "    temp.append(to_categorical(y_test[i], num_classes=10))\n",
    "y_test = np.array(temp)"
   ]
  },
  {
   "cell_type": "code",
   "execution_count": 4,
   "metadata": {},
   "outputs": [],
   "source": [
    "#reshaping\n",
    "X_train = X_train.reshape(X_train.shape[0], 28, 28, 1)\n",
    "X_test = X_test.reshape(X_test.shape[0], 28, 28, 1)"
   ]
  },
  {
   "cell_type": "code",
   "execution_count": 5,
   "metadata": {},
   "outputs": [],
   "source": [
    "inputs = Input(shape=(28,28,1))\n",
    "out = Lambda(lambda x: x/1000)(inputs)\n",
    "out = Conv2D(1,3)(out)\n",
    "out = Lambda(lambda x: x**2+x)(out)\n",
    "out = Flatten()(out)\n",
    "out = Dense(10, activation=None)(out)\n",
    "out = Softmax()(out)\n",
    "model = Model(inputs, out)"
   ]
  },
  {
   "cell_type": "code",
   "execution_count": 6,
   "metadata": {},
   "outputs": [
    {
     "name": "stdout",
     "output_type": "stream",
     "text": [
      "Model: \"model\"\n",
      "_________________________________________________________________\n",
      "Layer (type)                 Output Shape              Param #   \n",
      "=================================================================\n",
      "input_1 (InputLayer)         [(None, 28, 28, 1)]       0         \n",
      "_________________________________________________________________\n",
      "lambda (Lambda)              (None, 28, 28, 1)         0         \n",
      "_________________________________________________________________\n",
      "conv2d (Conv2D)              (None, 26, 26, 1)         10        \n",
      "_________________________________________________________________\n",
      "lambda_1 (Lambda)            (None, 26, 26, 1)         0         \n",
      "_________________________________________________________________\n",
      "flatten (Flatten)            (None, 676)               0         \n",
      "_________________________________________________________________\n",
      "dense (Dense)                (None, 10)                6770      \n",
      "_________________________________________________________________\n",
      "softmax (Softmax)            (None, 10)                0         \n",
      "=================================================================\n",
      "Total params: 6,780\n",
      "Trainable params: 6,780\n",
      "Non-trainable params: 0\n",
      "_________________________________________________________________\n"
     ]
    }
   ],
   "source": [
    "model.summary()"
   ]
  },
  {
   "cell_type": "code",
   "execution_count": 7,
   "metadata": {},
   "outputs": [],
   "source": [
    "model.compile(\n",
    "    loss='categorical_crossentropy',\n",
    "    optimizer='adam',\n",
    "    metrics=['acc']\n",
    "    )"
   ]
  },
  {
   "cell_type": "code",
   "execution_count": 8,
   "metadata": {},
   "outputs": [
    {
     "name": "stdout",
     "output_type": "stream",
     "text": [
      "Epoch 1/10\n",
      "1875/1875 [==============================] - 2s 977us/step - loss: 0.8025 - acc: 0.7974 - val_loss: 0.3139 - val_acc: 0.9094\n",
      "Epoch 2/10\n",
      "1875/1875 [==============================] - 2s 935us/step - loss: 0.3174 - acc: 0.9057 - val_loss: 0.2842 - val_acc: 0.9156\n",
      "Epoch 3/10\n",
      "1875/1875 [==============================] - 2s 950us/step - loss: 0.2982 - acc: 0.9117 - val_loss: 0.2834 - val_acc: 0.9201\n",
      "Epoch 4/10\n",
      "1875/1875 [==============================] - 2s 941us/step - loss: 0.2956 - acc: 0.9119 - val_loss: 0.2831 - val_acc: 0.9172\n",
      "Epoch 5/10\n",
      "1875/1875 [==============================] - 2s 956us/step - loss: 0.2800 - acc: 0.9165 - val_loss: 0.2655 - val_acc: 0.9233\n",
      "Epoch 6/10\n",
      "1875/1875 [==============================] - 2s 871us/step - loss: 0.2773 - acc: 0.9182 - val_loss: 0.2695 - val_acc: 0.9217\n",
      "Epoch 7/10\n",
      "1875/1875 [==============================] - 2s 859us/step - loss: 0.2782 - acc: 0.9174 - val_loss: 0.2653 - val_acc: 0.9219\n",
      "Epoch 8/10\n",
      "1875/1875 [==============================] - 2s 1ms/step - loss: 0.2694 - acc: 0.9211 - val_loss: 0.2658 - val_acc: 0.9226\n",
      "Epoch 9/10\n",
      "1875/1875 [==============================] - 2s 970us/step - loss: 0.2620 - acc: 0.9217 - val_loss: 0.2626 - val_acc: 0.9240\n",
      "Epoch 10/10\n",
      "1875/1875 [==============================] - 2s 975us/step - loss: 0.2613 - acc: 0.9238 - val_loss: 0.2727 - val_acc: 0.9219\n"
     ]
    },
    {
     "data": {
      "text/plain": [
       "<tensorflow.python.keras.callbacks.History at 0x11e088e20>"
      ]
     },
     "execution_count": 8,
     "metadata": {},
     "output_type": "execute_result"
    }
   ],
   "source": [
    "model.fit(X_train, y_train, epochs=10, validation_data=(X_test, y_test))"
   ]
  },
  {
   "cell_type": "code",
   "execution_count": 9,
   "metadata": {},
   "outputs": [
    {
     "data": {
      "text/plain": [
       "((28, 28, 1), 0, 255)"
      ]
     },
     "execution_count": 9,
     "metadata": {},
     "output_type": "execute_result"
    }
   ],
   "source": [
    "X = X_test[0]\n",
    "X.shape, X.min(), X.max()"
   ]
  },
  {
   "cell_type": "code",
   "execution_count": 10,
   "metadata": {},
   "outputs": [],
   "source": [
    "model2 = Model(model.input, model.layers[-2].output)"
   ]
  },
  {
   "cell_type": "code",
   "execution_count": 11,
   "metadata": {},
   "outputs": [
    {
     "data": {
      "text/plain": [
       "array([[ -0.47087878,  -6.194486  ,   3.474044  ,   8.786284  ,\n",
       "         -0.59760684,   1.9168414 , -10.066298  ,  15.407355  ,\n",
       "         -3.065394  ,   3.696538  ]], dtype=float32)"
      ]
     },
     "execution_count": 11,
     "metadata": {},
     "output_type": "execute_result"
    }
   ],
   "source": [
    "model2.predict(X_test[[0]])"
   ]
  },
  {
   "cell_type": "code",
   "execution_count": 12,
   "metadata": {},
   "outputs": [
    {
     "data": {
      "text/plain": [
       "array([[1.26936129e-07, 4.14814960e-10, 6.55908707e-06, 1.33021001e-03,\n",
       "        1.11827255e-07, 1.38216228e-06, 8.63670854e-12, 9.98653293e-01,\n",
       "        9.47985068e-09, 8.19353590e-06]], dtype=float32)"
      ]
     },
     "execution_count": 12,
     "metadata": {},
     "output_type": "execute_result"
    }
   ],
   "source": [
    "model.predict(X_test[[0]])"
   ]
  },
  {
   "cell_type": "code",
   "execution_count": 13,
   "metadata": {},
   "outputs": [
    {
     "data": {
      "text/plain": [
       "<matplotlib.image.AxesImage at 0x12f167bb0>"
      ]
     },
     "execution_count": 13,
     "metadata": {},
     "output_type": "execute_result"
    },
    {
     "data": {
      "image/png": "[encoded data removed]",
      "text/plain": [
       "<Figure size 432x288 with 1 Axes>"
      ]
     },
     "metadata": {
      "needs_background": "light"
     },
     "output_type": "display_data"
    }
   ],
   "source": [
    "plt.imshow(X)"
   ]
  },
  {
   "cell_type": "code",
   "execution_count": 14,
   "metadata": {},
   "outputs": [
    {
     "data": {
      "text/plain": [
       "[<tf.Variable 'conv2d/kernel:0' shape=(3, 3, 1, 1) dtype=float32, numpy=\n",
       " array([[[[ 0.52698594]],\n",
       " \n",
       "         [[ 0.08442891]],\n",
       " \n",
       "         [[ 0.01869087]]],\n",
       " \n",
       " \n",
       "        [[[-1.3245686 ]],\n",
       " \n",
       "         [[-1.3917689 ]],\n",
       " \n",
       "         [[-1.8389475 ]]],\n",
       " \n",
       " \n",
       "        [[[-0.27898604]],\n",
       " \n",
       "         [[-0.448968  ]],\n",
       " \n",
       "         [[-0.3638724 ]]]], dtype=float32)>,\n",
       " <tf.Variable 'conv2d/bias:0' shape=(1,) dtype=float32, numpy=array([0.3618775], dtype=float32)>,\n",
       " <tf.Variable 'dense/kernel:0' shape=(676, 10) dtype=float32, numpy=\n",
       " array([[-0.03674026, -0.18812837,  0.01979426, ...,  0.05463602,\n",
       "          0.01662535, -0.00871159],\n",
       "        [ 0.02171878, -0.18518244,  0.11909918, ..., -0.03949559,\n",
       "          0.02754857,  0.0684126 ],\n",
       "        [-0.01097946, -0.07011281,  0.12056817, ..., -0.05811585,\n",
       "          0.09220186, -0.07498543],\n",
       "        ...,\n",
       "        [-0.0361205 , -0.14020608,  0.12612993, ..., -0.09845617,\n",
       "         -0.01772444,  0.07013445],\n",
       "        [-0.07452048, -0.2042869 ,  0.07853597, ...,  0.01920246,\n",
       "         -0.02843344, -0.07306738],\n",
       "        [ 0.00806268, -0.0407033 ,  0.0513223 , ..., -0.0267654 ,\n",
       "          0.11145967, -0.10121571]], dtype=float32)>,\n",
       " <tf.Variable 'dense/bias:0' shape=(10,) dtype=float32, numpy=\n",
       " array([-0.01817241, -0.07616118,  0.054643  ,  0.06845271, -0.05770804,\n",
       "         0.0395476 , -0.03720428, -0.03012715,  0.02956592, -0.02378519],\n",
       "       dtype=float32)>]"
      ]
     },
     "execution_count": 14,
     "metadata": {},
     "output_type": "execute_result"
    }
   ],
   "source": [
    "model.weights"
   ]
  },
  {
   "cell_type": "code",
   "execution_count": 15,
   "metadata": {},
   "outputs": [],
   "source": [
    "in_json = {\n",
    "    \"in\": (X*(10**6)).astype(int).flatten().tolist(), # X is already 1000 times to begin with, scaling by 10**6 to match the overall 10**9 precision\n",
    "    \"conv2d_weights\": (model.weights[0].numpy()*(10**9)).round().astype(int).flatten().tolist(),\n",
    "    \"conv2d_bias\": (model.weights[1].numpy()*(10**9)*(10**9)).round().astype(int).flatten().tolist(),\n",
    "    # poly layer would be (10**9)*(10**9)=10**18 times as well\n",
    "    \"dense_weights\":(model.weights[2].numpy()*(10**9)).round().astype(int).flatten().tolist(),\n",
    "    \"dense_bias\": np.zeros(model.weights[3].numpy().shape).tolist() # zero because we are not doing softmax in circom, just argmax\n",
    "}"
   ]
  },
  {
   "cell_type": "code",
   "execution_count": 16,
   "metadata": {},
   "outputs": [],
   "source": [
    "import json"
   ]
  },
  {
   "cell_type": "code",
   "execution_count": 17,
   "metadata": {},
   "outputs": [],
   "source": [
    "with open(\"mnist_poly_input.json\", \"w\") as f:\n",
    "    json.dump(in_json, f)"
   ]
  },
  {
   "cell_type": "code",
   "execution_count": null,
   "metadata": {},
   "outputs": [],
   "source": []
  }
 ],
 "metadata": {
  "interpreter": {
   "hash": "11280bdb37aa6bc5d4cf1e4de756386eb1f9eecd8dcdefa77636dfac7be2370d"
  },
  "kernelspec": {
   "display_name": "Python 3.8.6 ('tf24')",
   "language": "python",
   "name": "python3"
  },
  "language_info": {
   "codemirror_mode": {
    "name": "ipython",
    "version": 3
   },
   "file_extension": ".py",
   "mimetype": "text/x-python",
   "name": "python",
   "nbconvert_exporter": "python",
   "pygments_lexer": "ipython3",
   "version": "3.8.6"
  },
  "orig_nbformat": 4
 },
 "nbformat": 4,
 "nbformat_minor": 2
}
