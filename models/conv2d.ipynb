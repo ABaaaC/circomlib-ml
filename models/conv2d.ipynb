{
 "cells": [
  {
   "cell_type": "code",
   "execution_count": 1,
   "metadata": {},
   "outputs": [],
   "source": [
    "from tensorflow.keras.layers import Input, Conv2D\n",
    "from tensorflow.keras import Model\n",
    "import numpy as np"
   ]
  },
  {
   "cell_type": "code",
   "execution_count": 2,
   "metadata": {},
   "outputs": [],
   "source": [
    "inputs = Input(shape=(5,5,3))\n",
    "x = Conv2D(2, 3)(inputs)\n",
    "model = Model(inputs, x)"
   ]
  },
  {
   "cell_type": "code",
   "execution_count": 3,
   "metadata": {},
   "outputs": [
    {
     "name": "stdout",
     "output_type": "stream",
     "text": [
      "Model: \"model\"\n",
      "_________________________________________________________________\n",
      "Layer (type)                 Output Shape              Param #   \n",
      "=================================================================\n",
      "input_1 (InputLayer)         [(None, 5, 5, 3)]         0         \n",
      "_________________________________________________________________\n",
      "conv2d (Conv2D)              (None, 3, 3, 2)           56        \n",
      "=================================================================\n",
      "Total params: 56\n",
      "Trainable params: 56\n",
      "Non-trainable params: 0\n",
      "_________________________________________________________________\n"
     ]
    }
   ],
   "source": [
    "model.summary()"
   ]
  },
  {
   "cell_type": "code",
   "execution_count": 4,
   "metadata": {},
   "outputs": [
    {
     "data": {
      "text/plain": [
       "[<tf.Variable 'conv2d/kernel:0' shape=(3, 3, 3, 2) dtype=float32, numpy=\n",
       " array([[[[ 0.00532213,  0.01806945],\n",
       "          [-0.08018309,  0.13749993],\n",
       "          [ 0.15713441,  0.04590532]],\n",
       " \n",
       "         [[-0.10268021, -0.08381525],\n",
       "          [ 0.00625068, -0.06617117],\n",
       "          [-0.27868283,  0.15321946]],\n",
       " \n",
       "         [[ 0.07455695,  0.15443742],\n",
       "          [-0.10475847,  0.20064372],\n",
       "          [-0.16788703,  0.28371173]]],\n",
       " \n",
       " \n",
       "        [[[-0.18503287,  0.35247225],\n",
       "          [-0.09500805,  0.24461341],\n",
       "          [ 0.1247969 ,  0.30034906]],\n",
       " \n",
       "         [[-0.10620868, -0.08424199],\n",
       "          [ 0.03252754, -0.10200378],\n",
       "          [ 0.01500395, -0.10338616]],\n",
       " \n",
       "         [[ 0.12937981,  0.00390726],\n",
       "          [-0.3165103 , -0.09928879],\n",
       "          [-0.10858417, -0.07013884]]],\n",
       " \n",
       " \n",
       "        [[[-0.1355082 , -0.01285639],\n",
       "          [ 0.13220546, -0.1390203 ],\n",
       "          [ 0.34691995, -0.07693747]],\n",
       " \n",
       "         [[ 0.18586475,  0.1771779 ],\n",
       "          [ 0.2107383 ,  0.20343399],\n",
       "          [ 0.26660055, -0.0645054 ]],\n",
       " \n",
       "         [[-0.20169468,  0.20715302],\n",
       "          [-0.17894447, -0.07678258],\n",
       "          [-0.2019233 ,  0.20329326]]]], dtype=float32)>,\n",
       " <tf.Variable 'conv2d/bias:0' shape=(2,) dtype=float32, numpy=array([0., 0.], dtype=float32)>]"
      ]
     },
     "execution_count": 4,
     "metadata": {},
     "output_type": "execute_result"
    }
   ],
   "source": [
    "model.weights"
   ]
  },
  {
   "cell_type": "code",
   "execution_count": 5,
   "metadata": {},
   "outputs": [
    {
     "data": {
      "text/plain": [
       "array([[[[0.07706963, 0.89463434, 0.1897133 ],\n",
       "         [0.30366886, 0.19307375, 0.6178037 ],\n",
       "         [0.88041068, 0.50786565, 0.51687829],\n",
       "         [0.63407746, 0.61299695, 0.43654402],\n",
       "         [0.85343424, 0.14670523, 0.93538307]],\n",
       "\n",
       "        [[0.62738085, 0.96599414, 0.54225448],\n",
       "         [0.97695477, 0.51189504, 0.64659635],\n",
       "         [0.14987877, 0.76167303, 0.88906146],\n",
       "         [0.69694305, 0.52868868, 0.15631565],\n",
       "         [0.26004293, 0.16167052, 0.54175091]],\n",
       "\n",
       "        [[0.06935492, 0.48436401, 0.89326109],\n",
       "         [0.11489624, 0.17011633, 0.57831794],\n",
       "         [0.41737643, 0.20459155, 0.355945  ],\n",
       "         [0.18405935, 0.36680556, 0.44706071],\n",
       "         [0.61416318, 0.71028094, 0.72964778]],\n",
       "\n",
       "        [[0.14665591, 0.49169179, 0.34747557],\n",
       "         [0.85826504, 0.33210524, 0.18229433],\n",
       "         [0.82389036, 0.83632002, 0.14352168],\n",
       "         [0.5986361 , 0.78300801, 0.92352137],\n",
       "         [0.32828077, 0.46306303, 0.02765627]],\n",
       "\n",
       "        [[0.75507086, 0.95771695, 0.97896974],\n",
       "         [0.29898692, 0.17223516, 0.11842481],\n",
       "         [0.39979659, 0.52830405, 0.37872448],\n",
       "         [0.85015918, 0.97035878, 0.47716831],\n",
       "         [0.98265021, 0.72905901, 0.54096091]]]])"
      ]
     },
     "execution_count": 5,
     "metadata": {},
     "output_type": "execute_result"
    }
   ],
   "source": [
    "X = np.random.rand(1,5,5,3)\n",
    "X"
   ]
  },
  {
   "cell_type": "code",
   "execution_count": 6,
   "metadata": {},
   "outputs": [
    {
     "data": {
      "text/plain": [
       "array([[[[-0.47057757,  0.87940997],\n",
       "         [-0.22883852,  0.9216037 ],\n",
       "         [-0.44013992,  1.0718222 ]],\n",
       "\n",
       "        [[-0.37989584,  1.1078516 ],\n",
       "         [-0.4495669 ,  1.0322194 ],\n",
       "         [ 0.01791049,  0.49668407]],\n",
       "\n",
       "        [[-0.16616501,  0.42594796],\n",
       "         [-0.79061836,  0.731256  ],\n",
       "         [-0.39701813,  1.2579358 ]]]], dtype=float32)"
      ]
     },
     "execution_count": 6,
     "metadata": {},
     "output_type": "execute_result"
    }
   ],
   "source": [
    "y = model.predict(X)\n",
    "y"
   ]
  },
  {
   "cell_type": "code",
   "execution_count": 7,
   "metadata": {},
   "outputs": [],
   "source": [
    "in_json = {\n",
    "    \"in\": (X*1000).round().astype(int).flatten().tolist(),\n",
    "    \"weights\": (model.weights[0].numpy()*1000).round().astype(int).flatten().tolist(),\n",
    "    \"bias\": [0,0]\n",
    "}"
   ]
  },
  {
   "cell_type": "code",
   "execution_count": 8,
   "metadata": {},
   "outputs": [],
   "source": [
    "out_json = {\n",
    "    \"out\": (y*1000000).round().astype(int).flatten().tolist()\n",
    "}"
   ]
  },
  {
   "cell_type": "code",
   "execution_count": 9,
   "metadata": {},
   "outputs": [],
   "source": [
    "import json"
   ]
  },
  {
   "cell_type": "code",
   "execution_count": 10,
   "metadata": {},
   "outputs": [],
   "source": [
    "with open(\"conv2D_input.json\", \"w\") as f:\n",
    "    json.dump(in_json, f)"
   ]
  },
  {
   "cell_type": "code",
   "execution_count": 11,
   "metadata": {},
   "outputs": [],
   "source": [
    "with open(\"conv2D_output.json\", \"w\") as f:\n",
    "    json.dump(out_json, f)"
   ]
  },
  {
   "cell_type": "code",
   "execution_count": null,
   "metadata": {},
   "outputs": [],
   "source": []
  }
 ],
 "metadata": {
  "kernelspec": {
   "display_name": "tf24",
   "language": "python",
   "name": "tf24"
  },
  "language_info": {
   "codemirror_mode": {
    "name": "ipython",
    "version": 3
   },
   "file_extension": ".py",
   "mimetype": "text/x-python",
   "name": "python",
   "nbconvert_exporter": "python",
   "pygments_lexer": "ipython3",
   "version": "3.8.6"
  },
  "orig_nbformat": 4
 },
 "nbformat": 4,
 "nbformat_minor": 2
}
